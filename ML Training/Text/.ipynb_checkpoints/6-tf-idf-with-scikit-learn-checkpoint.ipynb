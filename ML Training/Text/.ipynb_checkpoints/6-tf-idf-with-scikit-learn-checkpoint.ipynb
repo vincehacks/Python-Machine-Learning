{
 "cells": [
  {
   "cell_type": "markdown",
   "metadata": {},
   "source": [
    "# TFIDF with SciKit\n"
   ]
  },
  {
   "cell_type": "code",
   "execution_count": 1,
   "metadata": {},
   "outputs": [
    {
     "name": "stdout",
     "output_type": "stream",
     "text": [
      "TfidfVectorizer(analyzer='word', binary=False, decode_error='strict',\n",
      "        dtype=<class 'numpy.int64'>, encoding='utf-8', input='content',\n",
      "        lowercase=True, max_df=1.0, max_features=None, min_df=0,\n",
      "        ngram_range=(1, 1), norm='l2', preprocessor=None, smooth_idf=True,\n",
      "        stop_words=None, strip_accents=None, sublinear_tf=False,\n",
      "        token_pattern='(?u)\\\\b\\\\w\\\\w+\\\\b', tokenizer=None, use_idf=True,\n",
      "        vocabulary=None)\n",
      "\n",
      "document-term matrix\n",
      "  (0, 8)\t0.5215009486364797\n",
      "  (0, 0)\t0.33576371116289594\n",
      "  (0, 2)\t0.44148893042159626\n",
      "  (0, 6)\t0.33576371116289594\n",
      "  (0, 9)\t0.44148893042159626\n",
      "  (0, 1)\t0.33576371116289594\n",
      "  (1, 8)\t0.3731188059313277\n",
      "  (1, 0)\t0.4804583972923858\n",
      "  (1, 3)\t0.4804583972923858\n",
      "  (1, 5)\t0.6317450542765208\n",
      "  (2, 8)\t0.29225439586501756\n",
      "  (2, 6)\t0.37633074615060896\n",
      "  (2, 1)\t0.37633074615060896\n",
      "  (2, 3)\t0.37633074615060896\n",
      "  (2, 7)\t0.49482970636510465\n",
      "  (2, 4)\t0.49482970636510465\n",
      "\n",
      "feature vectors\n",
      "0 brown\n",
      "1 cow\n",
      "2 dog\n",
      "3 grass\n",
      "4 green\n",
      "5 is\n",
      "6 likes\n",
      "7 spotted\n",
      "8 the\n",
      "9 white\n"
     ]
    }
   ],
   "source": [
    "from sklearn.feature_extraction.text import TfidfVectorizer\n",
    "\n",
    "d0 = \"the brown dog likes the white cow\"\n",
    "d1 = \"the grass is brown\"\n",
    "d2 = \"the spotted cow likes green grass\"\n",
    "\n",
    "documents = [d0,d1,d2]\n",
    "\n",
    "# parameters\n",
    "# ngram_range=(min,max), here we are only doing 1 word\n",
    "# stop_words = None , 'english'\n",
    "tf = TfidfVectorizer(analyzer='word', ngram_range=(1,1), min_df = 0, stop_words=None)\n",
    "print(tf)\n",
    "tfidf_matrix =  tf.fit_transform(documents)\n",
    "print()\n",
    "print(\"document-term matrix\")\n",
    "print(tfidf_matrix)\n",
    "feature_names = tf.get_feature_names()\n",
    "print()\n",
    "print(\"feature vectors\")\n",
    "for i, feature in enumerate(feature_names):\n",
    "    print(i,feature)\n",
    "\n"
   ]
  },
  {
   "cell_type": "markdown",
   "metadata": {},
   "source": [
    "## Pretty Print"
   ]
  },
  {
   "cell_type": "code",
   "execution_count": 3,
   "metadata": {},
   "outputs": [
    {
     "name": "stdout",
     "output_type": "stream",
     "text": [
      "\n",
      "document term matrix\n",
      "   brown   cow   dog  grass  green    is  likes  spotted   the  white\n",
      "0   0.34  0.34  0.44   0.00   0.00  0.00   0.34     0.00  0.52   0.44\n",
      "1   0.48  0.00  0.00   0.48   0.00  0.63   0.00     0.00  0.37   0.00\n",
      "2   0.00  0.38  0.00   0.38   0.49  0.00   0.38     0.49  0.29   0.00\n",
      "\n",
      "term document matrix\n",
      "            0     1     2\n",
      "brown    0.34  0.48  0.00\n",
      "cow      0.34  0.00  0.38\n",
      "dog      0.44  0.00  0.00\n",
      "grass    0.00  0.48  0.38\n",
      "green    0.00  0.00  0.49\n",
      "is       0.00  0.63  0.00\n",
      "likes    0.34  0.00  0.38\n",
      "spotted  0.00  0.00  0.49\n",
      "the      0.52  0.37  0.29\n",
      "white    0.44  0.00  0.00\n"
     ]
    },
    {
     "name": "stderr",
     "output_type": "stream",
     "text": [
      "/Users/y748808/Documents/Installations/anaconda3/lib/python3.6/site-packages/ipykernel_launcher.py:9: FutureWarning: set_value is deprecated and will be removed in a future release. Please use .at[] or .iat[] accessors instead\n",
      "  if __name__ == '__main__':\n"
     ]
    }
   ],
   "source": [
    "## Let's pretty print\n",
    "import pandas as pd\n",
    "df = pd.DataFrame()\n",
    "\n",
    "for doc, scores in enumerate(tfidf_matrix.toarray()):\n",
    "    #print(\"doc\" , doc, feature_names)\n",
    "    for i, score in enumerate(scores):\n",
    "        #print(i, feature_names[i], score)\n",
    "        df.set_value(doc, feature_names[i], round(float(score),2))\n",
    "\n",
    "print(\"\\ndocument term matrix\")    \n",
    "print(df)\n",
    "\n",
    "print(\"\\nterm document matrix\")\n",
    "print(df.transpose())"
   ]
  },
  {
   "cell_type": "code",
   "execution_count": null,
   "metadata": {
    "collapsed": true
   },
   "outputs": [],
   "source": []
  }
 ],
 "metadata": {
  "kernelspec": {
   "display_name": "Python 3",
   "language": "python",
   "name": "python3"
  },
  "language_info": {
   "codemirror_mode": {
    "name": "ipython",
    "version": 3
   },
   "file_extension": ".py",
   "mimetype": "text/x-python",
   "name": "python",
   "nbconvert_exporter": "python",
   "pygments_lexer": "ipython3",
   "version": "3.6.4"
  }
 },
 "nbformat": 4,
 "nbformat_minor": 2
}
